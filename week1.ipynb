{
  "cells": [
    {
      "cell_type": "markdown",
      "metadata": {
        "id": "view-in-github",
        "colab_type": "text"
      },
      "source": [
        "<a href=\"https://colab.research.google.com/github/isabellelam/dsc207r/blob/main/week1.ipynb\" target=\"_parent\"><img src=\"https://colab.research.google.com/assets/colab-badge.svg\" alt=\"Open In Colab\"/></a>"
      ]
    },
    {
      "cell_type": "markdown",
      "metadata": {
        "id": "hoNse2eKKxzr"
      },
      "source": [
        "# Week 1 Study Notebook\n",
        "\n",
        "# UC San Diego OMDS DSC 207\n",
        "\n",
        "## Check your Python skills while using Jupyter notebooks."
      ]
    },
    {
      "cell_type": "code",
      "source": [],
      "metadata": {
        "id": "lSJKwF84OUPn"
      },
      "execution_count": null,
      "outputs": []
    },
    {
      "cell_type": "markdown",
      "metadata": {
        "id": "Qs9X4Vd_67t0"
      },
      "source": [
        "### Installing Otter-Grader\n",
        "\n",
        "In this course, we will be using Otter-Grader to evaluate your code using predefined test cases. Otter-Grader is a powerful tool that helps you check your work before submitting assignments. To get started with Otter-Grader, you need to install it in your Jupyter Notebook environment.\n",
        "\n",
        "To install Otter-Grader, simply run the below code cell."
      ]
    },
    {
      "cell_type": "code",
      "execution_count": null,
      "metadata": {
        "id": "blOhv7NA67t0"
      },
      "outputs": [],
      "source": [
        "# DO NOT MODIFY\n",
        "%pip install otter-grader\n",
        "\n",
        "files = \"https://github.com/dsc207rfall2023/fa23course-dsc207r/raw/main/assignments/Week%201/tests.zip\"\n",
        "!wget $files && unzip -o tests.zip"
      ]
    },
    {
      "cell_type": "code",
      "execution_count": null,
      "metadata": {
        "id": "7nhkED6n67t1"
      },
      "outputs": [],
      "source": [
        "# Initialize Otter\n",
        "import otter\n",
        "grader = otter.Notebook()"
      ]
    },
    {
      "cell_type": "markdown",
      "metadata": {
        "id": "pOgkMZpd67t1"
      },
      "source": [
        "### Loading Python modules"
      ]
    },
    {
      "cell_type": "code",
      "execution_count": null,
      "metadata": {
        "id": "qeEsNYNv67t1"
      },
      "outputs": [],
      "source": [
        "import pandas as pd\n",
        "import numpy as np\n",
        "\n",
        "# ADD ADDITIONAL PYTHON MODULES BELOW"
      ]
    },
    {
      "cell_type": "markdown",
      "metadata": {
        "deletable": false,
        "editable": false,
        "id": "NFhqf_KQKxzv"
      },
      "source": [
        "### 1.  Write a program to swap a string and an int variable and print their data types to verify the swapping operation\n",
        "\n",
        "* Initialize 2 variables my_int = 5 , and my_str = \"Hi\"\n",
        "* Swap these variables such that my_int now holds the value of my_float and vice versa\n",
        "* Verify this by printing their data types\n",
        "\n",
        "_Points:_ 5"
      ]
    },
    {
      "cell_type": "code",
      "execution_count": null,
      "metadata": {
        "id": "Cjg3iFUKKxzv",
        "tags": []
      },
      "outputs": [],
      "source": [
        "\n",
        "my_int = ...\n",
        "my_str = ..."
      ]
    },
    {
      "cell_type": "code",
      "execution_count": null,
      "metadata": {
        "deletable": false,
        "editable": false,
        "id": "YixXL3e267t2"
      },
      "outputs": [],
      "source": [
        "grader.check(\"q1\")"
      ]
    },
    {
      "cell_type": "markdown",
      "metadata": {
        "deletable": false,
        "editable": false,
        "id": "5bqlJypQ67t2"
      },
      "source": [
        "### 2. Write a Python Program to Calculate the length of the diagonal of a rectangle\n",
        "\n",
        "* Initialize the 2 sides of the rectangle a and b to 5 and 6\n",
        "* Calculate the length of the diagonal using the formula - diagonal = √(a^2 + b^2)\n",
        "\n",
        "_Points:_ 5"
      ]
    },
    {
      "cell_type": "code",
      "execution_count": null,
      "metadata": {
        "tags": [],
        "id": "8W7tU3RO67t2"
      },
      "outputs": [],
      "source": [
        "def calc_diag(a, b):\n",
        "    ..."
      ]
    },
    {
      "cell_type": "code",
      "execution_count": null,
      "metadata": {
        "deletable": false,
        "editable": false,
        "id": "-0hhTjMI67t3"
      },
      "outputs": [],
      "source": [
        "grader.check(\"q2\")"
      ]
    },
    {
      "cell_type": "markdown",
      "metadata": {
        "deletable": false,
        "editable": false,
        "id": "xhbMjv_r67t3"
      },
      "source": [
        "### 3. Write a Python Program to Check if a Number is divisible by 3\n",
        "\n",
        "* Initialize a variable that takes input from user\n",
        "* Check and return True or False if the number is divisible by 3\n",
        "\n",
        "_Points:_ 10"
      ]
    },
    {
      "cell_type": "code",
      "execution_count": null,
      "metadata": {
        "tags": [],
        "id": "p1CPNjkn67t3"
      },
      "outputs": [],
      "source": [
        "def is_divisible_by_3(num):\n",
        "    if not isinstance(num, int):\n",
        "        return False\n",
        "\n",
        "    if num % 3 == 0:\n",
        "        return True\n",
        "    else:\n",
        "        return False"
      ]
    },
    {
      "cell_type": "code",
      "execution_count": null,
      "metadata": {
        "deletable": false,
        "editable": false,
        "id": "MUZYfr4G67t3"
      },
      "outputs": [],
      "source": [
        "grader.check(\"q3\")"
      ]
    },
    {
      "cell_type": "markdown",
      "metadata": {
        "deletable": false,
        "editable": false,
        "id": "dR4crtGj67t3"
      },
      "source": [
        "<!-- BEGIN QUESTION -->\n",
        "\n",
        "### 4. Write a Python Program to Check if a number has exactly 3 digits(no zeros allowed at the beginning and the number can be assumed to be positive)\n",
        "\n",
        "* Initialize a variable that takes input from user(input will be given as a string)\n",
        "* Check and print if the number has exactly 3 digits(no zeros allowed at the beginning)\n",
        "* Read about type casting in python and use type casting from string to int\n",
        "\n",
        "_Points:_ 10"
      ]
    },
    {
      "cell_type": "code",
      "execution_count": null,
      "metadata": {
        "tags": [],
        "id": "VIzuABE767t3"
      },
      "outputs": [],
      "source": [
        "\n",
        "num = ..."
      ]
    },
    {
      "cell_type": "markdown",
      "metadata": {
        "deletable": false,
        "editable": false,
        "id": "tD6ilcyF67t3"
      },
      "source": [
        "<!-- END QUESTION -->\n",
        "\n",
        "### 5. Write a Python Program to Check Whether a String is Palindrome or Not\n",
        "\n",
        "* Initialize a string\n",
        "* Lower case it to allow easy comparison\n",
        "* Check using if-else statements if the string is a palindrome\n",
        "* A palindrome is a string which is same read forward or backwards.\n",
        "\n",
        "_Points:_ 10"
      ]
    },
    {
      "cell_type": "code",
      "execution_count": null,
      "metadata": {
        "tags": [],
        "id": "6jdYIEuf67t3"
      },
      "outputs": [],
      "source": [
        "def if_palindrome(x):\n",
        "    ..."
      ]
    },
    {
      "cell_type": "code",
      "execution_count": null,
      "metadata": {
        "deletable": false,
        "editable": false,
        "id": "mEvOiSy-67t3"
      },
      "outputs": [],
      "source": [
        "grader.check(\"q5\")"
      ]
    },
    {
      "cell_type": "markdown",
      "metadata": {
        "deletable": false,
        "editable": false,
        "id": "FtczNzyi67t4"
      },
      "source": [
        "### 6.  **Print numbers divisible by 5 between 4 and 30, inclusive**\n",
        "\n",
        "* Iterate through the numbers in the for loop and notice the way range has been used to generate numbers in the for loop\n",
        "* Return a list containing only the numbers divisible by 5 using if statement\n",
        "\n",
        "_Points:_ 5"
      ]
    },
    {
      "cell_type": "code",
      "execution_count": null,
      "metadata": {
        "tags": [],
        "id": "MbAynci_67t4"
      },
      "outputs": [],
      "source": [
        "\n",
        "sol = ..."
      ]
    },
    {
      "cell_type": "code",
      "execution_count": null,
      "metadata": {
        "deletable": false,
        "editable": false,
        "id": "ImE3KEDD67t4"
      },
      "outputs": [],
      "source": [
        "grader.check(\"q6\")"
      ]
    },
    {
      "cell_type": "markdown",
      "metadata": {
        "deletable": false,
        "editable": false,
        "id": "jEF32_Bh67t4"
      },
      "source": [
        "### 7. Write a Python Program to print the first n numbers of the Fibonacci series starting from 0\n",
        "\n",
        "* Initialize a variable n that denotes the number of elements of the Fibonacci series to be computed\n",
        "* Use a loop and return a list of first n numbers of the Fibonacci series: 0,1,1,2,3,....\n",
        "\n",
        "\n",
        "_Points:_ 15"
      ]
    },
    {
      "cell_type": "code",
      "execution_count": null,
      "metadata": {
        "tags": [],
        "id": "gCY3aRa367t4"
      },
      "outputs": [],
      "source": [
        "def fibonacci(n):\n",
        "    ...\n"
      ]
    },
    {
      "cell_type": "code",
      "execution_count": null,
      "metadata": {
        "deletable": false,
        "editable": false,
        "id": "CAt3q6Ab67t4"
      },
      "outputs": [],
      "source": [
        "grader.check(\"q7\")"
      ]
    },
    {
      "cell_type": "markdown",
      "metadata": {
        "deletable": false,
        "editable": false,
        "id": "ayPR1kcQ67t4"
      },
      "source": [
        "### 8. Write a Python Program that defines a function to Remove Vowels From a String\n",
        "\n",
        "* You can initialize a string of your choice\n",
        "* Define the function\n",
        "* Use a for loop to remove vowels\n",
        "\n",
        "_Points:_ 10"
      ]
    },
    {
      "cell_type": "code",
      "execution_count": null,
      "metadata": {
        "tags": [],
        "id": "gkpiAp3q67t4"
      },
      "outputs": [],
      "source": [
        "def remove_vowels(input_str):\n",
        "    ...\n"
      ]
    },
    {
      "cell_type": "code",
      "execution_count": null,
      "metadata": {
        "deletable": false,
        "editable": false,
        "id": "NnOOZ11w67t4"
      },
      "outputs": [],
      "source": [
        "grader.check(\"q8\")"
      ]
    },
    {
      "cell_type": "markdown",
      "metadata": {
        "deletable": false,
        "editable": false,
        "id": "x1_c_npd67t4"
      },
      "source": [
        "### 9. **Write a program to define a function that takes two numbers as arguments and returns the sum of all numbers between the arguments passed (exclusive, i.e. excluding the limits)**\n",
        "\n",
        "* You can define a range of your choice\n",
        "* Define the function\n",
        "* Use a for loop to add numbers within the range(exclusive)\n",
        "\n",
        "_Points:_ 10"
      ]
    },
    {
      "cell_type": "code",
      "execution_count": null,
      "metadata": {
        "tags": [],
        "id": "0tKHpFWu67t5"
      },
      "outputs": [],
      "source": [
        "def sum(a, b):\n",
        "    ..."
      ]
    },
    {
      "cell_type": "code",
      "execution_count": null,
      "metadata": {
        "deletable": false,
        "editable": false,
        "id": "eZm1nRGL67t5"
      },
      "outputs": [],
      "source": [
        "grader.check(\"q9\")"
      ]
    },
    {
      "cell_type": "markdown",
      "metadata": {
        "deletable": false,
        "editable": false,
        "id": "dtoBrZPh67t5"
      },
      "source": [
        "<!-- BEGIN QUESTION -->\n",
        "\n",
        "### 10. Define a class named Triangle used to calculate the area\n",
        "\n",
        "* The class can be constructed by the length of the sides\n",
        "* The class must have a method which can compute the area using the formula area = √(s(s-a)(s-b)(s-c)) where s=(a+b+c)/2 is the semi-perimeter\n",
        "* The class must verify if the side lengths can form a triangle\n",
        "\n",
        "_Points:_ 20"
      ]
    },
    {
      "cell_type": "code",
      "execution_count": null,
      "metadata": {
        "tags": [],
        "id": "Me_4tUS767t5"
      },
      "outputs": [],
      "source": [
        "class Triangle:\n",
        "    ...\n",
        "\n",
        "    def __init__():\n",
        "        ...\n",
        "\n",
        "    def valid_triangle():\n",
        "        ...\n",
        "\n",
        "    def calculate_area():\n",
        "        ...\n",
        "\n",
        "\n",
        "triangle1 = Triangle(4, 3, 2)\n",
        "area1 = triangle1.get_area()\n",
        "print(f'The area of triangle1 is: {area1}')\n",
        "\n",
        "triangle2 = Triangle(2, 4, 6)\n",
        "area2 = triangle2.get_area()\n",
        "print(f'The area of the triangle2 is: {area2}')\n",
        "\n",
        "triangle3 = Triangle(7, 9, 12)\n",
        "area3 = triangle3.get_area()\n",
        "print(f'The area of the triangle3 is: {area3}')"
      ]
    },
    {
      "cell_type": "markdown",
      "metadata": {
        "deletable": false,
        "editable": false,
        "id": "Mo1MGROz67t5"
      },
      "source": [
        "<!-- END QUESTION -->\n",
        "\n",
        "### Submission\n",
        "\n",
        "Before you submit your notebook, ensure that you've run all the cells sequentially to display images, graphs, and outputs correctly. Take the time to review your solutions and evaluate using the public test cases. Once you're satisfied, save your notebook by navigating to \"File\" in the Jupyter Notebook menu and selecting \"Save\" or using the keyboard shortcut (usually Ctrl + S or Cmd + S).\n",
        "\n",
        "To submit, export your notebook as an .ipynb file. Ensure it's saved with the same name as the assignment. Then, upload this .ipynb file to Gradescope. Remember to submit the correct version.\n",
        "\n",
        "Please save your work before exporting it, and if you encounter any technical issues or have questions about the submission process, reach out to the course staff for assistance"
      ]
    },
    {
      "cell_type": "markdown",
      "metadata": {
        "deletable": false,
        "editable": false,
        "id": "OqUIqRkY67t5"
      },
      "source": [
        "---\n",
        "\n",
        "To double-check your work, the cell below will rerun all of the autograder tests."
      ]
    },
    {
      "cell_type": "code",
      "execution_count": null,
      "metadata": {
        "deletable": false,
        "editable": false,
        "id": "zl6ckvbc67t5"
      },
      "outputs": [],
      "source": [
        "grader.check_all()"
      ]
    }
  ],
  "metadata": {
    "colab": {
      "provenance": [],
      "include_colab_link": true
    },
    "kernelspec": {
      "display_name": "Python 3",
      "language": "python",
      "name": "python3"
    },
    "language_info": {
      "codemirror_mode": {
        "name": "ipython",
        "version": 3
      },
      "file_extension": ".py",
      "mimetype": "text/x-python",
      "name": "python",
      "nbconvert_exporter": "python",
      "pygments_lexer": "ipython3",
      "version": "3.8.18"
    },
    "otter": {
      "OK_FORMAT": true,
      "tests": {
        "q1": {
          "name": "q1",
          "points": 5,
          "suites": [
            {
              "cases": [
                {
                  "code": ">>> assert type(my_int) == str\n",
                  "hidden": false,
                  "locked": false
                },
                {
                  "code": ">>> assert type(my_str) == int\n",
                  "hidden": false,
                  "locked": false
                },
                {
                  "code": ">>> assert my_int == \"Hi\"\n",
                  "hidden": false,
                  "locked": false
                },
                {
                  "code": ">>> assert my_str == 5\n",
                  "hidden": false,
                  "locked": false
                }
              ],
              "scored": true,
              "setup": "",
              "teardown": "",
              "type": "doctest"
            }
          ]
        },
        "q2": {
          "name": "q2",
          "points": 5,
          "suites": [
            {
              "cases": [
                {
                  "code": ">>> assert calc_diag(3, 4) == 5\n",
                  "hidden": false,
                  "locked": false
                }
              ],
              "scored": true,
              "setup": "",
              "teardown": "",
              "type": "doctest"
            }
          ]
        },
        "q3": {
          "name": "q3",
          "points": 10,
          "suites": [
            {
              "cases": [
                {
                  "code": ">>> assert is_divisible_by_3(9) == True\n",
                  "hidden": false,
                  "locked": false
                },
                {
                  "code": ">>> assert is_divisible_by_3(-12) == True\n",
                  "hidden": false,
                  "locked": false
                }
              ],
              "scored": true,
              "setup": "",
              "teardown": "",
              "type": "doctest"
            }
          ]
        },
        "q5": {
          "name": "q5",
          "points": 10,
          "suites": [
            {
              "cases": [
                {
                  "code": ">>> assert if_palindrome(\"racecar\") == True\n",
                  "hidden": false,
                  "locked": false
                },
                {
                  "code": ">>> assert if_palindrome(\"hello\") == False\n",
                  "hidden": false,
                  "locked": false
                }
              ],
              "scored": true,
              "setup": "",
              "teardown": "",
              "type": "doctest"
            }
          ]
        },
        "q6": {
          "name": "q6",
          "points": 5,
          "suites": [
            {
              "cases": [
                {
                  "code": ">>> assert len(sol) == 6\n",
                  "hidden": false,
                  "locked": false
                },
                {
                  "code": ">>> assert sol == [5, 10, 15, 20, 25, 30]\n>>> \n",
                  "hidden": false,
                  "locked": false
                }
              ],
              "scored": true,
              "setup": "",
              "teardown": "",
              "type": "doctest"
            }
          ]
        },
        "q7": {
          "name": "q7",
          "points": 15,
          "suites": [
            {
              "cases": [
                {
                  "code": ">>> assert fibonacci(1) == [0]\n",
                  "hidden": false,
                  "locked": false
                },
                {
                  "code": ">>> assert fibonacci(5) == [0, 1, 1, 2, 3]\n",
                  "hidden": false,
                  "locked": false
                }
              ],
              "scored": true,
              "setup": "",
              "teardown": "",
              "type": "doctest"
            }
          ]
        },
        "q8": {
          "name": "q8",
          "points": 10,
          "suites": [
            {
              "cases": [
                {
                  "code": ">>> assert remove_vowels(\"Hello, World!\") == \"Hll, Wrld!\"\n",
                  "hidden": false,
                  "locked": false
                },
                {
                  "code": ">>> assert remove_vowels(\"Python Programming\") == \"Pythn Prgrmmng\"\n",
                  "hidden": false,
                  "locked": false
                }
              ],
              "scored": true,
              "setup": "",
              "teardown": "",
              "type": "doctest"
            }
          ]
        },
        "q9": {
          "name": "q9",
          "points": 10,
          "suites": [
            {
              "cases": [
                {
                  "code": ">>> assert sum(1, 5) == 9\n>>> \n",
                  "hidden": false,
                  "locked": false
                },
                {
                  "code": ">>> assert sum(-3, 3) == 0\n",
                  "hidden": false,
                  "locked": false
                }
              ],
              "scored": true,
              "setup": "",
              "teardown": "",
              "type": "doctest"
            }
          ]
        }
      }
    }
  },
  "nbformat": 4,
  "nbformat_minor": 0
}