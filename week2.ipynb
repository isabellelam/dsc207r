{
  "cells": [
    {
      "cell_type": "markdown",
      "metadata": {
        "id": "view-in-github",
        "colab_type": "text"
      },
      "source": [
        "<a href=\"https://colab.research.google.com/github/isabellelam/dsc207r/blob/main/week2.ipynb\" target=\"_parent\"><img src=\"https://colab.research.google.com/assets/colab-badge.svg\" alt=\"Open In Colab\"/></a>"
      ]
    },
    {
      "cell_type": "markdown",
      "metadata": {
        "id": "hoNse2eKKxzr"
      },
      "source": [
        "# Week 2 Study Notebook\n",
        "\n",
        "# UC San Diego OMDS DSC 207"
      ]
    },
    {
      "cell_type": "markdown",
      "source": [
        "### Installing Otter-Grader\n",
        "\n",
        "In this course, we will be using Otter-Grader to evaluate your code using predefined test cases. Otter-Grader is a powerful tool that helps you check your work before submitting assignments. To get started with Otter-Grader, you need to install it in your Jupyter Notebook environment.\n",
        "\n",
        "To install Otter-Grader, simply run the below code cell. In case, an error occurs related to wget command, please refer to the below link: https://www.jcchouinard.com/wget/. The tool may not be installed in your system."
      ],
      "metadata": {
        "id": "aX5zJdhjYIph"
      }
    },
    {
      "cell_type": "code",
      "execution_count": null,
      "metadata": {
        "id": "H9n-Sa9IvAQP"
      },
      "outputs": [],
      "source": [
        "# DO NOT MODIFY\n",
        "%pip install otter-grader\n",
        "\n",
        "tests = \"https://github.com/dsc207rfall2023/fa23course-dsc207r/raw/main/assignments/Week%202/tests.zip\"\n",
        "!wget $tests && unzip -o tests.zip"
      ]
    },
    {
      "cell_type": "code",
      "execution_count": null,
      "metadata": {
        "id": "8lNL2u_svAQQ"
      },
      "outputs": [],
      "source": [
        "# Initialize Otter\n",
        "import otter\n",
        "grader = otter.Notebook()"
      ]
    },
    {
      "cell_type": "code",
      "execution_count": null,
      "metadata": {
        "deletable": false,
        "editable": false,
        "id": "5Dhh0vpTvAQQ"
      },
      "outputs": [],
      "source": [
        "# LOAD LIBRARIES\n",
        "import numpy as np"
      ]
    },
    {
      "cell_type": "markdown",
      "metadata": {
        "deletable": false,
        "editable": false,
        "id": "NFhqf_KQKxzv"
      },
      "source": [
        "### 1. Random array\n",
        "\n",
        "Generate an integer random numpy array, `a`, of shape (3,5) with elements from 5 to 26 (inclusive). (Hint: Look at the documentation of `numpy.random.randint`) [1 pt]\n",
        "\n",
        "For eg.\n",
        "\n",
        "    a = array([[26,  9, 24,  7, 15],\n",
        "              [17, 15, 21, 18, 24],\n",
        "              [ 5, 15, 10, 15, 13]])"
      ]
    },
    {
      "cell_type": "code",
      "execution_count": null,
      "metadata": {
        "id": "Cjg3iFUKKxzv",
        "tags": []
      },
      "outputs": [],
      "source": [
        "\n",
        "a = ..."
      ]
    },
    {
      "cell_type": "code",
      "execution_count": null,
      "metadata": {
        "deletable": false,
        "editable": false,
        "id": "6Rdik0YsvAQQ"
      },
      "outputs": [],
      "source": [
        "assert a.shape == (3, 5)\n",
        "assert np.max(a) <= 26"
      ]
    },
    {
      "cell_type": "markdown",
      "metadata": {
        "deletable": false,
        "editable": false,
        "id": "Wnikr27AvAQR"
      },
      "source": [
        "### 2. Transpose and inverse of the array\n",
        "\n",
        "1. The transpose of an array is created by using the first row of the array as the first column of the new array, the second row of the array as the second column of the new array, and so on. **Create transpose of array `a` using numpy.** Note - you should not write your own transpose function for this step. [0.5 pt]\n",
        "\n",
        "For eg. The transpose of\n",
        "\n",
        "    a = array([[26,  9, 24,  7, 15],\n",
        "              [17, 15, 21, 18, 24],\n",
        "              [ 5, 15, 10, 15, 13]])\n",
        "\n",
        "    aT = array([[26, 17,  5],\n",
        "                [ 9, 15, 15],\n",
        "                [24, 21, 10],\n",
        "                [ 7, 18, 15],\n",
        "               [15, 24, 13]])\n",
        "\n",
        "2. Like numbers, matrices do have reciprocals. In case of matrices, this reciprocal is called inverse matrix. If A is a square matrix and B is its inverse, then the product of two matrices is equal to the unit matrix. **Create the inverse of B using numpy.** (Hint: look up documentation for linalg library in numpy) [0.5 pt]\n",
        "\n",
        "Initialize an integer numpy array `B`, of shape (2,2) as shown below.\n",
        "      \n",
        "      B=array([[10,  6],\n",
        "              [ 5,  5]])\n",
        "       "
      ]
    },
    {
      "cell_type": "code",
      "execution_count": null,
      "metadata": {
        "tags": [],
        "id": "qkcXy9wyvAQR"
      },
      "outputs": [],
      "source": [
        "a = np.array([[17, 20, 13, 23, 26],\n",
        "              [21, 12,  9, 15,  6],\n",
        "              [16, 23, 14, 25, 20]])\n",
        "\n",
        "\n",
        "aT = ...\n",
        "B = ...\n",
        "B_inv = ..."
      ]
    },
    {
      "cell_type": "code",
      "execution_count": null,
      "metadata": {
        "deletable": false,
        "editable": false,
        "id": "lFfPjq9cvAQR"
      },
      "outputs": [],
      "source": [
        "assert aT.shape == (5, 3)\n",
        "assert np.min(aT) >= 5\n",
        "assert np.linalg.det(B_inv) != 0"
      ]
    },
    {
      "cell_type": "markdown",
      "metadata": {
        "deletable": false,
        "editable": false,
        "id": "KGuEtCKRvAQR"
      },
      "source": [
        "### 3. Array slicing\n",
        "1. Slicing in python means taking elements from one given index to another given index. **Retrieve elements from last 2 rows and last 2 columns of array `a` and store the result in `c`** [0.5 pt]\n",
        "\n",
        "For eg. for the above array A - the last 2 columns and last 2 rows are\n",
        "\n",
        "    array([[18, 24],\n",
        "            [15, 13]])\n",
        "\n",
        "2. Retrieve the 2nd and 3rd rows of array `a` and store the result in `d`.  [0.5 pt]\n",
        "\n",
        "For eg. for the above array A, the 2nd and 3rd rows are\n",
        "\n",
        "      array([[17, 15, 21, 18, 24],\n",
        "            [ 5, 15, 10, 15, 13]])"
      ]
    },
    {
      "cell_type": "code",
      "execution_count": null,
      "metadata": {
        "tags": [],
        "id": "x4F7oicQvAQR"
      },
      "outputs": [],
      "source": [
        "\n",
        "c = ...\n",
        "d = ..."
      ]
    },
    {
      "cell_type": "code",
      "execution_count": null,
      "metadata": {
        "deletable": false,
        "editable": false,
        "id": "Cp-SCv7VvAQR"
      },
      "outputs": [],
      "source": [
        "assert c.shape == (2, 2)\n",
        "\n",
        "assert d.shape == (2, 5)"
      ]
    },
    {
      "cell_type": "markdown",
      "metadata": {
        "deletable": false,
        "editable": false,
        "id": "yF9IObMHvAQR"
      },
      "source": [
        "### 4. Broadcasting\n",
        "\n",
        "1. Broadcasting describes how NumPy treats arrays with different shapes during arithmetic operations. Subject to certain constraints, the smaller array is “broadcast” across the larger array so that they have compatible shapes. Below you can see the difference between vector addition for traditional lists and numpy arrays.\n",
        "\n",
        "\n"
      ]
    },
    {
      "cell_type": "code",
      "execution_count": null,
      "metadata": {
        "deletable": false,
        "editable": false,
        "id": "xoEXeKRjvAQS"
      },
      "outputs": [],
      "source": [
        "# If we were not using numpy arrays, we would have to loop through the array. Run this cell.\n",
        "arr= [[27, 11, 27, 11, 20],\n",
        "       [18, 17, 24, 22, 29],\n",
        "       [ 6, 17, 13, 19, 18]]\n",
        "c = [1,2,3,4,5]\n",
        "for row in range(len(arr)):\n",
        "  for col in range(len(arr[0])):\n",
        "    arr[row][col] = arr[row][col]+c[col]\n",
        "arr"
      ]
    },
    {
      "cell_type": "markdown",
      "metadata": {
        "deletable": false,
        "editable": false,
        "id": "lwlcY12NvAQS"
      },
      "source": [
        "\n",
        "**Create a vector `c=[1,2,3,4,5]`. Add this vector to array `a` using numpy broadcasting. Store the result in `x`.**  [0.5 pt]\n",
        "\n",
        "For eg. for the array A - the result array would be\n",
        "\n",
        "    array([[27, 11, 27, 11, 20],\n",
        "          [18, 17, 24, 22, 29],\n",
        "          [ 6, 17, 13, 19, 18]])\n",
        "\n",
        "2. **(True / False) It is possible to add array B from Question 2 to a. Explain your reasons for the answer.**  [0.5 pt]"
      ]
    },
    {
      "cell_type": "code",
      "execution_count": null,
      "metadata": {
        "tags": [],
        "id": "ZtNwpx7IvAQS"
      },
      "outputs": [],
      "source": [
        "\n",
        "c = ...\n",
        "x = ...\n",
        "\n",
        "answer = ... #True or False\n",
        "# Write explanation below"
      ]
    },
    {
      "cell_type": "code",
      "execution_count": null,
      "metadata": {
        "deletable": false,
        "editable": false,
        "id": "vjup07BSvAQS"
      },
      "outputs": [],
      "source": [
        "assert x.shape == (3, 5)\n",
        "\n",
        "assert np.array_equal(x, a) == False"
      ]
    },
    {
      "cell_type": "markdown",
      "metadata": {
        "deletable": false,
        "editable": false,
        "id": "JiZDM4B6vAQS"
      },
      "source": [
        "### 5. Reshaping\n",
        "\n",
        "**Create a list `B=[1,2,3]` and add it to all the columns of `a`. Store the resulting array in z** (Hint: Use reshape and broadcasting)  [1 pt]\n",
        "\n",
        "For eg. for the modified array A, the result would be\n",
        "\n",
        "    array([[27, 10, 25,  8, 16],\n",
        "          [19, 17, 23, 20, 26],\n",
        "          [ 8, 18, 13, 18, 16]])"
      ]
    },
    {
      "cell_type": "code",
      "execution_count": null,
      "metadata": {
        "tags": [],
        "id": "gRxOHlyAvAQS"
      },
      "outputs": [],
      "source": [
        "\n",
        "B = ...\n",
        "z = ..."
      ]
    },
    {
      "cell_type": "code",
      "execution_count": null,
      "metadata": {
        "deletable": false,
        "editable": false,
        "id": "lu-8a4lwvAQS"
      },
      "outputs": [],
      "source": [
        "assert z.shape == (3, 5)\n",
        "\n",
        "assert np.array_equal(z, a) == False"
      ]
    },
    {
      "cell_type": "markdown",
      "metadata": {
        "deletable": false,
        "editable": false,
        "id": "MbFexBWYvAQS"
      },
      "source": [
        "### 6. Data analysis using numpy\n",
        "\n",
        "**Normalization: Create a new array where each element in `a` is adjusted by subtracting the mean of its corresponding row. Store this new array in a_norm.** (Hint: look at numpy's mean method and it's arguments) [2 pt]\n",
        "\n",
        "For eg. for the modified array A, the expected output would be\n",
        "\n",
        "    array([[ 9.8, -7.2,  7.8, -9.2, -1.2],\n",
        "          [-2. , -4. ,  2. , -1. ,  5. ],\n",
        "          [-6.6,  3.4, -1.6,  3.4,  1.4]])"
      ]
    },
    {
      "cell_type": "code",
      "execution_count": null,
      "metadata": {
        "tags": [],
        "id": "HFb7Ss-XvAQS"
      },
      "outputs": [],
      "source": [
        "\n",
        "a_norm = ..."
      ]
    },
    {
      "cell_type": "code",
      "execution_count": null,
      "metadata": {
        "deletable": false,
        "editable": false,
        "id": "kb2MLyTVvAQS"
      },
      "outputs": [],
      "source": [
        "assert a_norm.shape == (3, 5)"
      ]
    },
    {
      "cell_type": "markdown",
      "metadata": {
        "deletable": false,
        "editable": false,
        "id": "pW5ojO9FvAQS"
      },
      "source": [
        "### 7. Data manipulation in numpy arrays.\n",
        "\n",
        "**Swap first and second row of array `a`. Store the new array in X.** [0.5 pt]\n",
        "\n",
        "For eg. for the modified array `a` the expected output would be\n",
        "\n",
        "    array([[17, 15, 21, 18, 24],\n",
        "           [26,  9, 24,  7, 15],\n",
        "           [ 5, 15, 10, 15, 13]])\n",
        "\n",
        "**Swap second and third row of array `X`. Store the new array in `Y`.**  [0.5 pt]\n",
        "\n",
        "For eg. for the modified array `a` the expected output would be\n",
        "   \n",
        "    array([[17, 15, 21, 18, 24],\n",
        "           [ 5, 15, 10, 15, 13],\n",
        "           [26,  9, 24,  7, 15]])"
      ]
    },
    {
      "cell_type": "code",
      "execution_count": null,
      "metadata": {
        "tags": [],
        "id": "WLoA97JZvAQT"
      },
      "outputs": [],
      "source": [
        "\n",
        "X = ...\n",
        "Y = ..."
      ]
    },
    {
      "cell_type": "code",
      "execution_count": null,
      "metadata": {
        "deletable": false,
        "editable": false,
        "id": "PehQQmoJvAQT"
      },
      "outputs": [],
      "source": [
        "assert X.shape == (3, 5)\n",
        "\n",
        "assert Y.shape == (3, 5)"
      ]
    },
    {
      "cell_type": "markdown",
      "metadata": {
        "id": "6E94EpEhvAQT"
      },
      "source": [
        "### The Power Of Numpy"
      ]
    },
    {
      "cell_type": "code",
      "execution_count": null,
      "metadata": {
        "id": "xgHEmp-KvAQT"
      },
      "outputs": [],
      "source": [
        "#Run this cell\n",
        "import time\n",
        "\n",
        "twoD_list = [[i for i in range(500)] for j in range(500)]\n",
        "\n",
        "# This a traditional matrix multiplication using for loops\n",
        "def matrix_multiplication(x, y):\n",
        "    dp = 0\n",
        "    prod=[]\n",
        "    for i in range(len(x)):\n",
        "      row=[]\n",
        "      for j in range(len(x[0])):\n",
        "        mul=0\n",
        "        for k in range(len(x[0])):\n",
        "          mul += (x[i][k]*y[k][j])\n",
        "        row.append(mul)\n",
        "      prod.append(row)\n",
        "\n",
        "    return prod"
      ]
    },
    {
      "cell_type": "code",
      "execution_count": null,
      "metadata": {
        "id": "N0W_7IBJvAQT"
      },
      "outputs": [],
      "source": [
        "# Run this cell. Note the time taken to perform traditional matrix multiplication using lists.\n",
        "start_time = time.time()\n",
        "dot_product_list = matrix_multiplication(twoD_list, twoD_list)\n",
        "end_time = time.time()\n",
        "print(end_time-start_time)"
      ]
    },
    {
      "cell_type": "markdown",
      "metadata": {
        "deletable": false,
        "editable": false,
        "id": "NRpzIYpEvAQT"
      },
      "source": [
        "**Convert the `twoD_list` to a numpy array `numpy_twoD_array`. Print the numpy array**\n",
        "\n",
        "For eg.\n",
        "\n",
        "    numpy_twoD = array([[  0,   1,   2, ..., 497, 498, 499],\n",
        "                        [  0,   1,   2, ..., 497, 498, 499],\n",
        "                        [  0,   1,   2, ..., 497, 498, 499],\n",
        "                         ...,\n",
        "                        [  0,   1,   2, ..., 497, 498, 499],\n",
        "                        [  0,   1,   2, ..., 497, 498, 499],\n",
        "                        [  0,   1,   2, ..., 497, 498, 499]])\n",
        "\n",
        "**Perform matrix multiplication of the numpy array i.e. numpy_twoD_array * numpy_twoD_array. Record the result in dot_product_array and report the time taken for the operation similar to traditional list multiplication.**  [2 pt]"
      ]
    },
    {
      "cell_type": "code",
      "execution_count": null,
      "metadata": {
        "tags": [],
        "id": "Wb7uARyNvAQT"
      },
      "outputs": [],
      "source": [
        "start_time=time.time();\n",
        "\n",
        "dot_product_array = ...\n"
      ]
    },
    {
      "cell_type": "code",
      "execution_count": null,
      "metadata": {
        "deletable": false,
        "editable": false,
        "id": "8F5S2mUavAQT"
      },
      "outputs": [],
      "source": [
        "assert dot_product_array.shape == (500, 500)"
      ]
    },
    {
      "cell_type": "markdown",
      "metadata": {
        "id": "JyUYZDnZvAQT"
      },
      "source": [
        "### Submission\n",
        "\n",
        "Before you submit your notebook, ensure that you've run all the cells sequentially to display images, graphs, and outputs correctly. Take the time to review your solutions and evaluate using the public test cases. Once you're satisfied, save your notebook by navigating to \"File\" in the Jupyter Notebook menu and selecting \"Save\" or using the keyboard shortcut (usually Ctrl + S or Cmd + S).\n",
        "\n",
        "To submit, export your notebook as an .ipynb file. Ensure it's saved with the same name as the assignment. Then, upload this .ipynb file to Gradescope. Remember to submit the correct version.\n",
        "\n",
        "Please save your work before exporting it, and if you encounter any technical issues or have questions about the submission process, reach out to the course staff for assistance"
      ]
    }
  ],
  "metadata": {
    "colab": {
      "provenance": [],
      "include_colab_link": true
    },
    "kernelspec": {
      "display_name": "Python 3",
      "language": "python",
      "name": "python3"
    },
    "language_info": {
      "codemirror_mode": {
        "name": "ipython",
        "version": 3
      },
      "file_extension": ".py",
      "mimetype": "text/x-python",
      "name": "python",
      "nbconvert_exporter": "python",
      "pygments_lexer": "ipython3",
      "version": "3.11.5"
    },
    "otter": {
      "OK_FORMAT": true,
      "tests": {
        "q1": {
          "name": "q1",
          "points": 1,
          "suites": [
            {
              "cases": [],
              "scored": true,
              "setup": "",
              "teardown": "",
              "type": "doctest"
            }
          ]
        },
        "q2": {
          "name": "q2",
          "points": 1,
          "suites": [
            {
              "cases": [],
              "scored": true,
              "setup": "",
              "teardown": "",
              "type": "doctest"
            }
          ]
        },
        "q3": {
          "name": "q3",
          "points": 1,
          "suites": [
            {
              "cases": [],
              "scored": true,
              "setup": "",
              "teardown": "",
              "type": "doctest"
            }
          ]
        },
        "q4": {
          "name": "q4",
          "points": 1,
          "suites": [
            {
              "cases": [],
              "scored": true,
              "setup": "",
              "teardown": "",
              "type": "doctest"
            }
          ]
        },
        "q5": {
          "name": "q5",
          "points": 1,
          "suites": [
            {
              "cases": [],
              "scored": true,
              "setup": "",
              "teardown": "",
              "type": "doctest"
            }
          ]
        },
        "q6": {
          "name": "q6",
          "points": 2,
          "suites": [
            {
              "cases": [],
              "scored": true,
              "setup": "",
              "teardown": "",
              "type": "doctest"
            }
          ]
        },
        "q7": {
          "name": "q7",
          "points": 1,
          "suites": [
            {
              "cases": [],
              "scored": true,
              "setup": "",
              "teardown": "",
              "type": "doctest"
            }
          ]
        },
        "q8": {
          "name": "q8",
          "points": 2,
          "suites": [
            {
              "cases": [],
              "scored": true,
              "setup": "",
              "teardown": "",
              "type": "doctest"
            }
          ]
        }
      }
    }
  },
  "nbformat": 4,
  "nbformat_minor": 0
}