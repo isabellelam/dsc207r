{
  "cells": [
    {
      "cell_type": "markdown",
      "metadata": {
        "id": "view-in-github",
        "colab_type": "text"
      },
      "source": [
        "<a href=\"https://colab.research.google.com/github/isabellelam/dsc207r/blob/main/weekaaaa3.ipynb\" target=\"_parent\"><img src=\"https://colab.research.google.com/assets/colab-badge.svg\" alt=\"Open In Colab\"/></a>"
      ]
    },
    {
      "cell_type": "markdown",
      "metadata": {
        "id": "hoNse2eKKxzr"
      },
      "source": [
        "# Week 3 Study Notebook\n",
        "\n",
        "# UC San Diego OMDS DSC 207"
      ]
    },
    {
      "cell_type": "markdown",
      "metadata": {
        "id": "aDKxihoNZkI4"
      },
      "source": [
        "### Installing Otter-Grader\n",
        "\n",
        "In this course, we will be using Otter-Grader to evaluate your code using predefined test cases. Otter-Grader is a powerful tool that helps you check your work before submitting assignments. To get started with Otter-Grader, you need to install it in your Jupyter Notebook environment.\n",
        "\n",
        "To install Otter-Grader, simply run the below code cell. In case, an error occurs related to wget command, please refer to the below link: https://www.jcchouinard.com/wget/. The tool may not be installed in your system."
      ]
    },
    {
      "cell_type": "code",
      "execution_count": null,
      "metadata": {
        "id": "PYI-MaCxZkI4"
      },
      "outputs": [],
      "source": [
        "# DO NOT MODIFY\n",
        "%pip install otter-grader\n",
        "\n",
        "tests = \"https://github.com/dsc207rfall2023/fa23course-dsc207r/raw/main/assignments/Week%203/tests.zip\"\n",
        "!wget $tests && unzip -o tests.zip"
      ]
    },
    {
      "cell_type": "code",
      "execution_count": null,
      "metadata": {
        "id": "-BumbtwEZkI5"
      },
      "outputs": [],
      "source": [
        "# Initialize Otter\n",
        "import otter\n",
        "grader = otter.Notebook()"
      ]
    },
    {
      "cell_type": "markdown",
      "metadata": {
        "id": "0y-R-qakZkI5"
      },
      "source": [
        "### Import pandas and numpy\n",
        "Rename libraries as pd and np while importing."
      ]
    },
    {
      "cell_type": "code",
      "execution_count": null,
      "metadata": {
        "id": "RUiCKoGbZkI5"
      },
      "outputs": [],
      "source": [
        "# LOAD LIBRARIES"
      ]
    },
    {
      "cell_type": "markdown",
      "metadata": {
        "id": "GwZ7R7QlZkI5"
      },
      "source": [
        "## Part 1"
      ]
    },
    {
      "cell_type": "markdown",
      "metadata": {
        "deletable": false,
        "editable": false,
        "id": "NFhqf_KQKxzv"
      },
      "source": [
        "### 1.1 **Fetch and read book data**\n",
        "In this assignment, we will be working with a dataset of books - https://raw.githubusercontent.com/dsc207rfall2023/fa23course-dsc207r/main/assignments/Week%203/input_data/books_hw.csv. As you may have noticed, the file type is csv - comma separated values. **Read this data into a pandas dataframe `books`.** (Hint - It might be useful to look into [documentation](https://pandas.pydata.org/docs/reference/api/pandas.read_csv.html) for read csv files. If you come across some 'bad' lines in the dataset, the parameter `on_bad_lines` may be useful)) [0.5pt]"
      ]
    },
    {
      "cell_type": "code",
      "execution_count": null,
      "metadata": {
        "id": "Cjg3iFUKKxzv",
        "tags": []
      },
      "outputs": [],
      "source": [
        "books = ..."
      ]
    },
    {
      "cell_type": "code",
      "execution_count": null,
      "metadata": {
        "deletable": false,
        "editable": false,
        "id": "Px7x7pJLZkI6"
      },
      "outputs": [],
      "source": [
        "assert isinstance(books, pd.DataFrame)"
      ]
    },
    {
      "cell_type": "markdown",
      "metadata": {
        "deletable": false,
        "editable": false,
        "id": "Ui5dzyq-ZkI6"
      },
      "source": [
        "<!-- BEGIN QUESTION -->\n",
        "\n",
        "### 1.2 **To verify that `books` contains data, print the first 10 rows of the dataset.**\n",
        "Verify the same with CSV file. [0.5pt]"
      ]
    },
    {
      "cell_type": "code",
      "execution_count": null,
      "metadata": {
        "tags": [],
        "id": "UvXQYALJZkI6"
      },
      "outputs": [],
      "source": [
        "# WRITE YOUR CODE HERE\n"
      ]
    },
    {
      "cell_type": "markdown",
      "metadata": {
        "deletable": false,
        "editable": false,
        "id": "B0ns2JBXZkI6"
      },
      "source": [
        "<!-- END QUESTION -->\n",
        "\n",
        "### 1.3 **Change Index to bookID**\n",
        "In the above dataframe, you can see that there is an index before the first column `bookID`. Instead we can have bookID as the index for better searching and filtering. **Change the index of `books` to `bookID`.** (Hint - make sure the you are applying the changes to the same dataframe) [0.5pt]"
      ]
    },
    {
      "cell_type": "code",
      "execution_count": null,
      "metadata": {
        "tags": [],
        "id": "2Z4cSqOfZkI6"
      },
      "outputs": [],
      "source": [
        "# WRITE YOUR CODE HERE\n"
      ]
    },
    {
      "cell_type": "code",
      "execution_count": null,
      "metadata": {
        "deletable": false,
        "editable": false,
        "id": "1uwtXlE9ZkI6"
      },
      "outputs": [],
      "source": [
        "assert books.shape == (11123, 11)"
      ]
    },
    {
      "cell_type": "markdown",
      "metadata": {
        "deletable": false,
        "editable": false,
        "id": "QL_xGUhjZkI6"
      },
      "source": [
        "<!-- BEGIN QUESTION -->\n",
        "\n",
        "### 1.4 To verify change in index, **print the first 10 rows of the updated dataframe `books`.** [0.5pt]"
      ]
    },
    {
      "cell_type": "code",
      "execution_count": null,
      "metadata": {
        "tags": [],
        "id": "mh8qeLNNZkI6"
      },
      "outputs": [],
      "source": [
        " # WRITE YOUR CODE HERE\n"
      ]
    },
    {
      "cell_type": "markdown",
      "metadata": {
        "deletable": false,
        "editable": false,
        "id": "9X-R4lwwZkI6"
      },
      "source": [
        "<!-- END QUESTION -->\n",
        "\n",
        "### 1.5 **Store the total samples (rows) in dataset in `num_books` and print the result as well.** [0.5pt]\n"
      ]
    },
    {
      "cell_type": "code",
      "execution_count": null,
      "metadata": {
        "tags": [],
        "id": "9Red4JYQZkI6"
      },
      "outputs": [],
      "source": [
        "\n",
        "num_books = ..."
      ]
    },
    {
      "cell_type": "markdown",
      "metadata": {
        "id": "Nec_8Er2ZkI6"
      },
      "source": [
        "## Part 2"
      ]
    },
    {
      "cell_type": "markdown",
      "metadata": {
        "deletable": false,
        "editable": false,
        "id": "joJIhhvrZkI6"
      },
      "source": [
        "### 2.1 **Filtering dataframes**\n",
        "\n",
        "We may want the ability to get data based on certain criteria to perform analysis or derive statistics. **Get all rows from the dataframe `books` for which author is \"J.R.R. Tolkien\" and store it in `booksByTolkien`.** [0.5pt]"
      ]
    },
    {
      "cell_type": "code",
      "execution_count": null,
      "metadata": {
        "tags": [],
        "id": "3osfjURTZkI7"
      },
      "outputs": [],
      "source": [
        "# WRITE YOUR CODE HERE\n",
        "\n",
        "booksByTolkien"
      ]
    },
    {
      "cell_type": "code",
      "execution_count": null,
      "metadata": {
        "deletable": false,
        "editable": false,
        "id": "7nhzRBKUZkI7"
      },
      "outputs": [],
      "source": [
        "assert isinstance(booksByTolkien, pd.DataFrame)"
      ]
    },
    {
      "cell_type": "markdown",
      "metadata": {
        "deletable": false,
        "editable": false,
        "id": "9cp4KlCgZkI7"
      },
      "source": [
        "### 2.2 **Data analysis using dataframes**\n",
        "\n",
        "Since a dataframe is a collection of large amounts of data, often dealing with numeric data. This data can be used to create aggregations, which is very useful in deriving actionable insights.\n",
        "\n",
        "**Mean - Find average rating of all books present in the dataset and store in `avg_book_rating`.** [0.5pt]\n",
        "\n",
        "**Calculate the sum of rating_count in `booksByTolkien` and store it in `total_rating_count`** [0.5pt]"
      ]
    },
    {
      "cell_type": "code",
      "execution_count": null,
      "metadata": {
        "tags": [],
        "id": "bRiZhbD0ZkI7"
      },
      "outputs": [],
      "source": [
        "\n",
        "avg_book_rating = ...\n",
        "\n",
        "total_rating_count = ..."
      ]
    },
    {
      "cell_type": "markdown",
      "metadata": {
        "deletable": false,
        "editable": false,
        "id": "y9iWB7XoZkI7"
      },
      "source": [
        "### 2.3 **Average rating of books written by \"J.K. Rowling\"**\n",
        "\n",
        "Use the ability of filtering dataframes and find the mean of the filtered dataframe. Store the result in `avg_Rowling_book_rating` [1pt]"
      ]
    },
    {
      "cell_type": "code",
      "execution_count": null,
      "metadata": {
        "tags": [],
        "id": "EE8v1CBhZkI7"
      },
      "outputs": [],
      "source": [
        "avg_Rowling_book_rating = ..."
      ]
    },
    {
      "cell_type": "markdown",
      "metadata": {
        "id": "0uBMNXO7ZkI7"
      },
      "source": [
        "## Part 3"
      ]
    },
    {
      "cell_type": "markdown",
      "metadata": {
        "deletable": false,
        "editable": false,
        "id": "bZ57czW6ZkI7"
      },
      "source": [
        "### 3.1 **How many unique authors are present in this dataset?**\n",
        "Store the result in `num_authors`. (Hint - is there a function to do this?) [0.5pt]"
      ]
    },
    {
      "cell_type": "code",
      "execution_count": null,
      "metadata": {
        "tags": [],
        "id": "-axffVvmZkI7"
      },
      "outputs": [],
      "source": [
        "\n",
        "num_authors = ...\n"
      ]
    },
    {
      "cell_type": "markdown",
      "metadata": {
        "deletable": false,
        "editable": false,
        "id": "wyZKXmnaZkI7"
      },
      "source": [
        "### 3.2 **What is the maximum average rating for a book in the dataset?**\n",
        "Store the result in `maxRating`. Print `maxRating`. [0.5pt]"
      ]
    },
    {
      "cell_type": "code",
      "execution_count": null,
      "metadata": {
        "tags": [],
        "id": "G9vHm7i7ZkI7"
      },
      "outputs": [],
      "source": [
        "\n",
        "maxRating = ..."
      ]
    },
    {
      "cell_type": "markdown",
      "metadata": {
        "deletable": false,
        "editable": false,
        "id": "4U2Dl0l8ZkI7"
      },
      "source": [
        "<!-- BEGIN QUESTION -->\n",
        "\n",
        "### 3.3 **Authors of the books which are rated maximum**\n",
        "One sample data analysis task would be to find the authors who have high rated books. This information could be of great use to a publisher or book store chain.\n",
        "\n",
        "\n",
        "Store the author name, book title and average rating of the books who have maximum rating, in a dataframe `maxRatedAuthors`. Print `maxRatedAuthors`. [0.5pt]\n",
        "\n",
        "Print the number of max rated authors. [0.5pt]"
      ]
    },
    {
      "cell_type": "code",
      "execution_count": null,
      "metadata": {
        "tags": [],
        "id": "a4VCE3-FZkI7"
      },
      "outputs": [],
      "source": [
        "\n",
        "maxRatedAuthors = ..."
      ]
    },
    {
      "cell_type": "code",
      "execution_count": null,
      "metadata": {
        "deletable": false,
        "editable": false,
        "id": "rApyEUUXZkI7"
      },
      "outputs": [],
      "source": [
        "assert maxRatedAuthors is not None and isinstance(maxRatedAuthors, pd.DataFrame)\n",
        "\n",
        "assert all(col in maxRatedAuthors.columns for col in ['authors', 'title', 'average_rating'])"
      ]
    },
    {
      "cell_type": "markdown",
      "metadata": {
        "deletable": false,
        "editable": false,
        "id": "-V5XU6LCZkI7"
      },
      "source": [
        "<!-- END QUESTION -->\n",
        "\n",
        "### 3.4 List books whose rating count is greater than 2000 and average rating is more than 4.70\n",
        "\n",
        "Store this into a dataframe `popularBooks`. Ensure that all the columns are preserved. Print `popularBooks`. [0.5pt]"
      ]
    },
    {
      "cell_type": "code",
      "execution_count": null,
      "metadata": {
        "tags": [],
        "id": "OoGgR7bqZkI7"
      },
      "outputs": [],
      "source": [
        "\n",
        "popularBooks = ..."
      ]
    },
    {
      "cell_type": "code",
      "execution_count": null,
      "metadata": {
        "deletable": false,
        "editable": false,
        "id": "_O02HJRNZkI7"
      },
      "outputs": [],
      "source": [
        "assert popularBooks is not None and isinstance(popularBooks, pd.DataFrame)"
      ]
    },
    {
      "cell_type": "markdown",
      "metadata": {
        "deletable": false,
        "editable": false,
        "id": "Gh70O88eZkI7"
      },
      "source": [
        "<!-- BEGIN QUESTION -->\n",
        "\n",
        "### Describe the dataset\n",
        "We want to use statistics to get a general idea of the dataframe and its numerical values.\n",
        "\n",
        "Using [describe](https://pandas.pydata.org/docs/reference/api/pandas.DataFrame.describe.html), provide the counts, mean, standard deviation, mins, percentiles and maxs of the dataframe `popularBooks`. [0.5pt]"
      ]
    },
    {
      "cell_type": "code",
      "execution_count": null,
      "metadata": {
        "tags": [],
        "id": "DZd8nr5EZkI-"
      },
      "outputs": [],
      "source": [
        "# WRITE YOUR CODE HERE\n"
      ]
    },
    {
      "cell_type": "markdown",
      "metadata": {
        "deletable": false,
        "editable": false,
        "id": "uAWBbzeJZkI-"
      },
      "source": [
        "<!-- END QUESTION -->\n",
        "\n",
        "## Part 4"
      ]
    },
    {
      "cell_type": "markdown",
      "metadata": {
        "deletable": false,
        "editable": false,
        "id": "32epNGBYZkI-"
      },
      "source": [
        "### 4.1 Which are 7 most popular book languages(language_code) in this dataset?\n",
        "Print the `language_code` and count of the 7 highest occuring languages in the dataset. (Hint - `<dataframe>.<column-name>` gives you a series. With this, can you use [value_counts()](https://https://pandas.pydata.org/docs/reference/api/pandas.Series.value_counts.html) to get the answer? Store the result in `popularLang`. [1pt]"
      ]
    },
    {
      "cell_type": "code",
      "execution_count": null,
      "metadata": {
        "tags": [],
        "id": "l1O9pdfCZkI-"
      },
      "outputs": [],
      "source": [
        "\n",
        "popularLang = ..."
      ]
    },
    {
      "cell_type": "code",
      "execution_count": null,
      "metadata": {
        "deletable": false,
        "editable": false,
        "id": "kbGWVWicZkI-"
      },
      "outputs": [],
      "source": [
        "assert type(popularLang) == pd.Series\n",
        "\n",
        "assert len(popularLang) == 7"
      ]
    },
    {
      "cell_type": "markdown",
      "metadata": {
        "deletable": false,
        "editable": false,
        "id": "naaJQVgpZkI-"
      },
      "source": [
        "<!-- BEGIN QUESTION -->\n",
        "\n",
        "### 4.2 Print the number of books that have an average rating within 2 standard deviations from mean average rating of the entire dataset.\n",
        "[Standard deviation](https://https://en.wikipedia.org/wiki/Standard_deviation) tells you how spread out the data is. It is a measure of how far each observed value is from the mean. In any distribution, about 95% of values will be within 2 standard deviations of the mean.\n",
        "Hence, for the given task, we want to find the number of books who have an average rating from `mean-2*std_dev` to `mean+2*std_dev`. [1pt]\n"
      ]
    },
    {
      "cell_type": "code",
      "execution_count": null,
      "metadata": {
        "tags": [],
        "id": "IGoXwAkCZkI-"
      },
      "outputs": [],
      "source": [
        "# WRITE YOUR CODE HERE\n"
      ]
    },
    {
      "cell_type": "markdown",
      "metadata": {
        "deletable": false,
        "editable": false,
        "id": "iR-SEx5xZkI-"
      },
      "source": [
        "<!-- END QUESTION -->\n",
        "\n",
        "### 4.3 Find books with language code as 'ger' and whose publication date is between 2001 and 2005. (Optional)\n",
        "(Hint - How do we get the year from the publication date in its current form? Can we use [pd.to_datetime](https://https://pandas.pydata.org/docs/reference/api/pandas.to_datetime.html) to extract what we need for this task?)"
      ]
    },
    {
      "cell_type": "code",
      "execution_count": null,
      "metadata": {
        "id": "xqSSH5RsZkI_"
      },
      "outputs": [],
      "source": [
        "# WRITE YOUR CODE HERE\n"
      ]
    },
    {
      "cell_type": "markdown",
      "metadata": {
        "id": "faLq5t8NZkI_"
      },
      "source": [
        "### Submission\n",
        "\n",
        "Before you submit your notebook, ensure that you've run all the cells sequentially to display images, graphs, and outputs correctly. Take the time to review your solutions and evaluate using the public test cases. Once you're satisfied, save your notebook by navigating to \"File\" in the Jupyter Notebook menu and selecting \"Save\" or using the keyboard shortcut (usually Ctrl + S or Cmd + S).\n",
        "\n",
        "To submit, export your notebook as an .ipynb file. Ensure it's saved with the same name as the assignment. Then, upload this .ipynb file to Gradescope. Remember to submit the correct version.\n",
        "\n",
        "Please save your work before exporting it, and if you encounter any technical issues or have questions about the submission process, reach out to the course staff for assistance"
      ]
    }
  ],
  "metadata": {
    "colab": {
      "provenance": [],
      "include_colab_link": true
    },
    "kernelspec": {
      "display_name": "Python 3",
      "language": "python",
      "name": "python3"
    },
    "language_info": {
      "codemirror_mode": {
        "name": "ipython",
        "version": 3
      },
      "file_extension": ".py",
      "mimetype": "text/x-python",
      "name": "python",
      "nbconvert_exporter": "python",
      "pygments_lexer": "ipython3",
      "version": "3.11.5"
    },
    "otter": {
      "OK_FORMAT": true,
      "tests": {
        "q1": {
          "name": "q1",
          "points": 0.5,
          "suites": [
            {
              "cases": [],
              "scored": true,
              "setup": "",
              "teardown": "",
              "type": "doctest"
            }
          ]
        },
        "q10": {
          "name": "q10",
          "points": 0.5,
          "suites": [
            {
              "cases": [],
              "scored": true,
              "setup": "",
              "teardown": "",
              "type": "doctest"
            }
          ]
        },
        "q12": {
          "name": "q12",
          "points": 0.5,
          "suites": [
            {
              "cases": [],
              "scored": true,
              "setup": "",
              "teardown": "",
              "type": "doctest"
            }
          ]
        },
        "q14": {
          "name": "q14",
          "points": 1,
          "suites": [
            {
              "cases": [],
              "scored": true,
              "setup": "",
              "teardown": "",
              "type": "doctest"
            }
          ]
        },
        "q3": {
          "name": "q3",
          "points": 0.5,
          "suites": [
            {
              "cases": [],
              "scored": true,
              "setup": "",
              "teardown": "",
              "type": "doctest"
            }
          ]
        },
        "q5": {
          "name": "q5",
          "points": 0.5,
          "suites": [
            {
              "cases": [],
              "scored": true,
              "setup": "",
              "teardown": "",
              "type": "doctest"
            }
          ]
        },
        "q6": {
          "name": "q6",
          "points": 0.5,
          "suites": [
            {
              "cases": [],
              "scored": true,
              "setup": "",
              "teardown": "",
              "type": "doctest"
            }
          ]
        },
        "q7": {
          "name": "q7",
          "points": 1,
          "suites": [
            {
              "cases": [],
              "scored": true,
              "setup": "",
              "teardown": "",
              "type": "doctest"
            }
          ]
        },
        "q8": {
          "name": "q8",
          "points": 1,
          "suites": [
            {
              "cases": [],
              "scored": true,
              "setup": "",
              "teardown": "",
              "type": "doctest"
            }
          ]
        },
        "q9": {
          "name": "q9",
          "points": 0.5,
          "suites": [
            {
              "cases": [],
              "scored": true,
              "setup": "",
              "teardown": "",
              "type": "doctest"
            }
          ]
        }
      }
    }
  },
  "nbformat": 4,
  "nbformat_minor": 0
}